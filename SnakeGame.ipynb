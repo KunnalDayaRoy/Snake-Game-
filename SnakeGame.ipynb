{
 "cells": [
  {
   "cell_type": "code",
   "execution_count": 1,
   "outputs": [
    {
     "name": "stdout",
     "output_type": "stream",
     "text": [
      "pygame 2.1.2 (SDL 2.0.18, Python 3.10.7)\n",
      "Hello from the pygame community. https://www.pygame.org/contribute.html\n"
     ]
    },
    {
     "ename": "error",
     "evalue": "font not initialized",
     "output_type": "error",
     "traceback": [
      "\u001B[1;31m---------------------------------------------------------------------------\u001B[0m",
      "\u001B[1;31merror\u001B[0m                                     Traceback (most recent call last)",
      "Cell \u001B[1;32mIn [1], line 105\u001B[0m\n\u001B[0;32m    101\u001B[0m \u001B[38;5;28;01mfor\u001B[39;00m block \u001B[38;5;129;01min\u001B[39;00m snake_body[\u001B[38;5;241m1\u001B[39m:]:\n\u001B[0;32m    102\u001B[0m     \u001B[38;5;28;01mif\u001B[39;00m snake_position[\u001B[38;5;241m0\u001B[39m] \u001B[38;5;241m==\u001B[39m block[\u001B[38;5;241m0\u001B[39m] \u001B[38;5;129;01mand\u001B[39;00m snake_position[\u001B[38;5;241m1\u001B[39m] \u001B[38;5;241m==\u001B[39m block[\u001B[38;5;241m1\u001B[39m]: game_over()\n\u001B[1;32m--> 105\u001B[0m show_score(\u001B[38;5;241m1\u001B[39m, white, \u001B[38;5;124m'\u001B[39m\u001B[38;5;124mOpen Sans\u001B[39m\u001B[38;5;124m'\u001B[39m, \u001B[38;5;241m30\u001B[39m)                                                                      \u001B[38;5;66;03m#Score Color - White, Font Color - Open Sans\u001B[39;00m\n\u001B[0;32m    106\u001B[0m pygame\u001B[38;5;241m.\u001B[39mdisplay\u001B[38;5;241m.\u001B[39mupdate()\n\u001B[0;32m    107\u001B[0m fps\u001B[38;5;241m.\u001B[39mtick(snake_speed)\n",
      "Cell \u001B[1;32mIn [1], line 36\u001B[0m, in \u001B[0;36mshow_score\u001B[1;34m(choice, color, font, size)\u001B[0m\n\u001B[0;32m     35\u001B[0m \u001B[38;5;28;01mdef\u001B[39;00m \u001B[38;5;21mshow_score\u001B[39m(choice, color, font, size):\n\u001B[1;32m---> 36\u001B[0m     score_font \u001B[38;5;241m=\u001B[39m \u001B[43mpygame\u001B[49m\u001B[38;5;241;43m.\u001B[39;49m\u001B[43mfont\u001B[49m\u001B[38;5;241;43m.\u001B[39;49m\u001B[43mSysFont\u001B[49m\u001B[43m(\u001B[49m\u001B[43mfont\u001B[49m\u001B[43m,\u001B[49m\u001B[43m \u001B[49m\u001B[43msize\u001B[49m\u001B[43m)\u001B[49m\n\u001B[0;32m     37\u001B[0m     score_surface \u001B[38;5;241m=\u001B[39m score_font\u001B[38;5;241m.\u001B[39mrender(\u001B[38;5;124m'\u001B[39m\u001B[38;5;124mScore : \u001B[39m\u001B[38;5;124m'\u001B[39m \u001B[38;5;241m+\u001B[39m \u001B[38;5;28mstr\u001B[39m(score), \u001B[38;5;28;01mTrue\u001B[39;00m, color)\n\u001B[0;32m     38\u001B[0m     score_rect \u001B[38;5;241m=\u001B[39m score_surface\u001B[38;5;241m.\u001B[39mget_rect()\n",
      "File \u001B[1;32m~\\AppData\\Local\\Programs\\Python\\Python310\\Lib\\site-packages\\pygame\\sysfont.py:474\u001B[0m, in \u001B[0;36mSysFont\u001B[1;34m(name, size, bold, italic, constructor)\u001B[0m\n\u001B[0;32m    471\u001B[0m \u001B[38;5;28;01mif\u001B[39;00m italic \u001B[38;5;129;01mand\u001B[39;00m \u001B[38;5;129;01mnot\u001B[39;00m gotitalic:\n\u001B[0;32m    472\u001B[0m     set_italic \u001B[38;5;241m=\u001B[39m \u001B[38;5;28;01mTrue\u001B[39;00m\n\u001B[1;32m--> 474\u001B[0m \u001B[38;5;28;01mreturn\u001B[39;00m \u001B[43mconstructor\u001B[49m\u001B[43m(\u001B[49m\u001B[43mfontname\u001B[49m\u001B[43m,\u001B[49m\u001B[43m \u001B[49m\u001B[43msize\u001B[49m\u001B[43m,\u001B[49m\u001B[43m \u001B[49m\u001B[43mset_bold\u001B[49m\u001B[43m,\u001B[49m\u001B[43m \u001B[49m\u001B[43mset_italic\u001B[49m\u001B[43m)\u001B[49m\n",
      "File \u001B[1;32m~\\AppData\\Local\\Programs\\Python\\Python310\\Lib\\site-packages\\pygame\\sysfont.py:391\u001B[0m, in \u001B[0;36mfont_constructor\u001B[1;34m(fontpath, size, bold, italic)\u001B[0m\n\u001B[0;32m    379\u001B[0m \u001B[38;5;28;01mdef\u001B[39;00m \u001B[38;5;21mfont_constructor\u001B[39m(fontpath, size, bold, italic):\n\u001B[0;32m    380\u001B[0m     \u001B[38;5;124;03m\"\"\"\u001B[39;00m\n\u001B[0;32m    381\u001B[0m \u001B[38;5;124;03m    pygame.font specific declarations\u001B[39;00m\n\u001B[0;32m    382\u001B[0m \n\u001B[1;32m   (...)\u001B[0m\n\u001B[0;32m    388\u001B[0m \u001B[38;5;124;03m    :return: A font.Font object.\u001B[39;00m\n\u001B[0;32m    389\u001B[0m \u001B[38;5;124;03m    \"\"\"\u001B[39;00m\n\u001B[1;32m--> 391\u001B[0m     font \u001B[38;5;241m=\u001B[39m \u001B[43mFont\u001B[49m\u001B[43m(\u001B[49m\u001B[43mfontpath\u001B[49m\u001B[43m,\u001B[49m\u001B[43m \u001B[49m\u001B[43msize\u001B[49m\u001B[43m)\u001B[49m\n\u001B[0;32m    392\u001B[0m     \u001B[38;5;28;01mif\u001B[39;00m bold:\n\u001B[0;32m    393\u001B[0m         font\u001B[38;5;241m.\u001B[39mset_bold(\u001B[38;5;28;01mTrue\u001B[39;00m)\n",
      "\u001B[1;31merror\u001B[0m: font not initialized"
     ]
    }
   ],
   "source": [
    "#Created By Kunal Roy\n",
    "\n",
    "import pygame\n",
    "import time\n",
    "import random\n",
    "\n",
    "\n",
    "snake_speed = 13                                                                                                    #Snake Speed - 13\n",
    "\n",
    "window_x = 650\n",
    "window_y = 450\n",
    "\n",
    "black = pygame.Color(0, 0, 0)\n",
    "white = pygame.Color(255, 255, 255)\n",
    "red = pygame.Color(255, 0, 0)\n",
    "green = pygame.Color(0, 255, 0)\n",
    "blue = pygame.Color(0, 0, 255)\n",
    "\n",
    "pygame.init()\n",
    "\n",
    "pygame.display.set_caption('Snake Game')\n",
    "game_window = pygame.display.set_mode((window_x, window_y))\n",
    "\n",
    "fps = pygame.time.Clock()\n",
    "snake_position = [100, 50]\n",
    "snake_body = [[100, 50],[90, 50],[80, 50],[70, 50]]\n",
    "fruit_position = [random.randrange(1, (window_x//10)) * 10,\n",
    "                  random.randrange(1, (window_y//10)) * 10]\n",
    "fruit_spawn = True\n",
    "\n",
    "\n",
    "direction = 'RIGHT'\n",
    "change_to = direction\n",
    "score = 0                                                                                                             #Initial Score  - 0\n",
    "\n",
    "\n",
    "def show_score(choice, color, font, size):\n",
    "    score_font = pygame.font.SysFont(font, size)\n",
    "    score_surface = score_font.render('Score : ' + str(score), True, color)\n",
    "    score_rect = score_surface.get_rect()\n",
    "    game_window.blit(score_surface, score_rect)\n",
    "\n",
    "\n",
    "def game_over():\n",
    "    my_font = pygame.font.SysFont('Open Sans', 23)                                                                   #Font - Open Sans\n",
    "    game_over_surface = my_font.render( 'Your Final Score is : ' + str(score), True, white)                          #Final Score Color - White\n",
    "    game_over_rect = game_over_surface.get_rect()\n",
    "    game_over_rect.midtop = (window_x/2, window_y/4)\n",
    "    game_window.blit(game_over_surface, game_over_rect)\n",
    "    pygame.display.flip()\n",
    "    time.sleep(2)\n",
    "    pygame.quit()\n",
    "    quit()\n",
    "\n",
    "\n",
    "\n",
    "while True:\n",
    "\n",
    "\n",
    "    for event in pygame.event.get():\n",
    "        if event.type == pygame.KEYDOWN:\n",
    "            if event.key == pygame.K_UP:    change_to = 'UP'\n",
    "            if event.key == pygame.K_DOWN:  change_to = 'DOWN'\n",
    "            if event.key == pygame.K_LEFT:  change_to = 'LEFT'\n",
    "            if event.key == pygame.K_RIGHT: change_to = 'RIGHT'\n",
    "\n",
    "\n",
    "    if change_to == 'UP' and direction != 'DOWN':    direction = 'UP'\n",
    "    if change_to == 'DOWN' and direction != 'UP':    direction = 'DOWN'\n",
    "    if change_to == 'LEFT' and direction != 'RIGHT': direction = 'LEFT'\n",
    "    if change_to == 'RIGHT' and direction != 'LEFT': direction = 'RIGHT'\n",
    "\n",
    "\n",
    "    if direction == 'UP':    snake_position[1] -= 10\n",
    "    if direction == 'DOWN':  snake_position[1] += 10\n",
    "    if direction == 'LEFT':  snake_position[0] -= 10\n",
    "    if direction == 'RIGHT': snake_position[0] += 10\n",
    "\n",
    "\n",
    "    snake_body.insert(0, list(snake_position))\n",
    "    if snake_position[0] == fruit_position[0] and snake_position[1] == fruit_position[1]:\n",
    "        score += 1                                                                                                    #Score increment\n",
    "        fruit_spawn = False\n",
    "    else:\n",
    "        snake_body.pop()\n",
    "\n",
    "    if not fruit_spawn:\n",
    "        fruit_position = [random.randrange(1, (window_x//10)) * 10,\n",
    "                          random.randrange(1, (window_y//10)) * 10]\n",
    "\n",
    "    fruit_spawn = True\n",
    "    game_window.fill(black)                                                                                           #Window Color - Black\n",
    "\n",
    "    for pos in snake_body:\n",
    "        pygame.draw.rect(game_window, green, pygame.Rect(pos[0], pos[1], 10, 10))                                      #Snake Color - Green\n",
    "    pygame.draw.rect(game_window, white, pygame.Rect(fruit_position[0], fruit_position[1], 10, 10))                      #Fruit Color - White\n",
    "\n",
    "\n",
    "    if snake_position[0] < 0 or snake_position[0] > window_x-10: game_over()\n",
    "    if snake_position[1] < 0 or snake_position[1] > window_y-10: game_over()\n",
    "\n",
    "\n",
    "    for block in snake_body[1:]:\n",
    "        if snake_position[0] == block[0] and snake_position[1] == block[1]: game_over()\n",
    "\n",
    "\n",
    "    show_score(1, white, 'Open Sans', 30)                                                                      #Score Color - White, Font Color - Open Sans\n",
    "    pygame.display.update()\n",
    "    fps.tick(snake_speed)\n"
   ],
   "metadata": {
    "collapsed": false
   }
  },
  {
   "cell_type": "code",
   "execution_count": null,
   "outputs": [],
   "source": [
    "\n"
   ],
   "metadata": {
    "collapsed": false
   }
  }
 ],
 "metadata": {
  "kernelspec": {
   "display_name": "Python 3",
   "language": "python",
   "name": "python3"
  },
  "language_info": {
   "codemirror_mode": {
    "name": "ipython",
    "version": 2
   },
   "file_extension": ".py",
   "mimetype": "text/x-python",
   "name": "python",
   "nbconvert_exporter": "python",
   "pygments_lexer": "ipython2",
   "version": "2.7.6"
  }
 },
 "nbformat": 4,
 "nbformat_minor": 0
}
